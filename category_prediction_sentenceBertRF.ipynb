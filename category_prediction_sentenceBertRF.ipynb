{
 "cells": [
  {
   "cell_type": "code",
   "execution_count": 1,
   "id": "24ba3160",
   "metadata": {},
   "outputs": [
    {
     "name": "stderr",
     "output_type": "stream",
     "text": [
      "D:\\anaconda3\\envs\\tfgpu\\lib\\site-packages\\tqdm\\auto.py:22: TqdmWarning: IProgress not found. Please update jupyter and ipywidgets. See https://ipywidgets.readthedocs.io/en/stable/user_install.html\n",
      "  from .autonotebook import tqdm as notebook_tqdm\n"
     ]
    }
   ],
   "source": [
    "import pandas as pd\n",
    "import json, os\n",
    "\n",
    "import tensorflow as tf\n",
    "import numpy as np\n",
    "import csv\n",
    "from transformers import AutoTokenizer, TFAutoModel, TFAutoModelForSequenceClassification #, BertModel, BertTokenizer, TFBertForSequenceClassification\n",
    "import matplotlib.pyplot as plt\n",
    "import random\n",
    "from tensorflow.keras.callbacks import CSVLogger\n",
    "from tensorflow.keras.callbacks import EarlyStopping\n",
    "import tensorflow.keras.backend as K\n",
    "from collections import OrderedDict\n",
    "import time\n",
    "from sklearn.metrics import accuracy_score, recall_score, f1_score, precision_score, \\\n",
    "roc_auc_score, confusion_matrix, classification_report\n",
    "from sklearn.model_selection import StratifiedKFold\n",
    "import random\n",
    "\n",
    "from tensorflow.keras.models import Sequential\n",
    "from tensorflow.keras.models import Sequential\n",
    "from tensorflow.keras.layers import Dense, Activation, Dropout\n",
    "from tensorflow.keras import regularizers\n",
    "from tensorflow.keras import layers\n",
    "from tensorflow.keras.layers import LSTM, SimpleRNN\n",
    "from tensorflow.keras.layers import GRU\n",
    "from tensorflow.keras.layers import Masking\n",
    "from tensorflow.keras.layers import Embedding, MaxPool1D\n",
    "from tensorflow.keras.callbacks import CSVLogger\n",
    "from tensorflow.keras.callbacks import EarlyStopping, ModelCheckpoint\n",
    "from tensorflow.keras.models import load_model\n",
    "from tensorflow.keras import optimizers\n",
    "from tensorflow.keras.constraints import max_norm\n",
    "from tensorflow.keras.layers import Bidirectional, BatchNormalization\n",
    "from tensorflow.keras.layers import LeakyReLU\n",
    "from tensorflow.keras.initializers import glorot_uniform, RandomUniform, lecun_uniform, Constant\n",
    "from tensorflow.python.keras.preprocessing.text import Tokenizer\n",
    "from tensorflow.python.keras.preprocessing.sequence import pad_sequences\n",
    "from collections import OrderedDict\n",
    "from tensorflow.keras.layers import Conv1D\n",
    "from tensorflow.keras.layers import MaxPooling1D, GlobalMaxPool1D\n",
    "import tensorflow.keras.backend as K\n",
    "\n",
    "from tensorflow.keras.optimizers import Adam\n",
    "from tensorflow.keras.initializers import TruncatedNormal\n",
    "from tensorflow.keras.losses import CategoricalCrossentropy\n",
    "from tensorflow.keras.metrics import CategoricalAccuracy\n",
    "from tensorflow.keras.utils import to_categorical\n",
    "from tensorflow.keras.layers import Input, Dense, GlobalMaxPool1D\n",
    "\n",
    "from sklearn.metrics import classification_report\n",
    "\n",
    "# from imblearn.over_sampling import RandomOverSampler\n",
    "# from imblearn.under_sampling import RandomUnderSampler\n",
    "\n",
    "from sklearn.svm import SVC  \n",
    "from sklearn.naive_bayes import GaussianNB\n",
    "from sklearn import tree\n",
    "from sklearn.ensemble import RandomForestClassifier\n",
    "\n",
    "import nltk\n",
    "from nltk.tokenize import word_tokenize\n",
    "import gensim.downloader\n",
    "import io\n",
    "from keras_preprocessing.text import tokenizer_from_json\n",
    "from gensim.models import Word2Vec\n",
    "from gensim.models import FastText\n",
    "from sklearn.neighbors import KNeighborsClassifier\n"
   ]
  },
  {
   "cell_type": "markdown",
   "id": "ca0e24c8",
   "metadata": {},
   "source": [
    "Set the seeder to have as stable random operations as possible"
   ]
  },
  {
   "cell_type": "code",
   "execution_count": 2,
   "id": "c3cb5b72",
   "metadata": {},
   "outputs": [],
   "source": [
    "seed = 123\n",
    "np.random.seed(seed)\n",
    "random.seed(seed)\n",
    "tf.random.set_seed(seed)"
   ]
  },
  {
   "cell_type": "code",
   "execution_count": 3,
   "id": "01a6448b",
   "metadata": {},
   "outputs": [],
   "source": [
    "embedding_algorithms = [\"bert\", \"codebert\"]\n",
    "embedding_algorithm = embedding_algorithms[1]"
   ]
  },
  {
   "cell_type": "code",
   "execution_count": 4,
   "id": "22f9b6e6",
   "metadata": {},
   "outputs": [],
   "source": [
    "representation_form = \"sequences\""
   ]
  },
  {
   "cell_type": "code",
   "execution_count": 5,
   "id": "3acc7396",
   "metadata": {},
   "outputs": [],
   "source": [
    "# binary or multi-class\n",
    "multi = True"
   ]
  },
  {
   "cell_type": "code",
   "execution_count": 6,
   "id": "8a56a193",
   "metadata": {},
   "outputs": [],
   "source": [
    "train_w2v = False"
   ]
  },
  {
   "cell_type": "markdown",
   "id": "c2010727",
   "metadata": {},
   "source": [
    "Read data"
   ]
  },
  {
   "cell_type": "code",
   "execution_count": 7,
   "id": "fbf099bd",
   "metadata": {},
   "outputs": [],
   "source": [
    "if representation_form == \"bow\":\n",
    "    data = pd.read_csv('bow_data.csv') # bow\n",
    "else:\n",
    "    data = pd.read_csv('sequences_data.csv') # sequences of tokens"
   ]
  },
  {
   "cell_type": "code",
   "execution_count": 8,
   "id": "7abc9724",
   "metadata": {},
   "outputs": [
    {
     "data": {
      "text/html": [
       "<div>\n",
       "<style scoped>\n",
       "    .dataframe tbody tr th:only-of-type {\n",
       "        vertical-align: middle;\n",
       "    }\n",
       "\n",
       "    .dataframe tbody tr th {\n",
       "        vertical-align: top;\n",
       "    }\n",
       "\n",
       "    .dataframe thead th {\n",
       "        text-align: right;\n",
       "    }\n",
       "</style>\n",
       "<table border=\"1\" class=\"dataframe\">\n",
       "  <thead>\n",
       "    <tr style=\"text-align: right;\">\n",
       "      <th></th>\n",
       "      <th>Vulnerability</th>\n",
       "      <th>Category</th>\n",
       "      <th>Length</th>\n",
       "    </tr>\n",
       "  </thead>\n",
       "  <tbody>\n",
       "    <tr>\n",
       "      <th>0</th>\n",
       "      <td>f\"str$id\"\"str$id\"\"str$id\"         ...</td>\n",
       "      <td>sql_injection</td>\n",
       "      <td>9</td>\n",
       "    </tr>\n",
       "    <tr>\n",
       "      <th>1</th>\n",
       "      <td>client.listentcp()    proxy = proxy(proxy_...</td>\n",
       "      <td>xsrf</td>\n",
       "      <td>8</td>\n",
       "    </tr>\n",
       "    <tr>\n",
       "      <th>2</th>\n",
       "      <td>from django.http import httpresponse, httpresp...</td>\n",
       "      <td>open_redirect</td>\n",
       "      <td>9</td>\n",
       "    </tr>\n",
       "    <tr>\n",
       "      <th>3</th>\n",
       "      <td>def write_preset(conn, queryin, descriptin):\\t...</td>\n",
       "      <td>sql_injection</td>\n",
       "      <td>175</td>\n",
       "    </tr>\n",
       "    <tr>\n",
       "      <th>4</th>\n",
       "      <td>update_query = self.up...</td>\n",
       "      <td>sql_injection</td>\n",
       "      <td>14</td>\n",
       "    </tr>\n",
       "  </tbody>\n",
       "</table>\n",
       "</div>"
      ],
      "text/plain": [
       "                                       Vulnerability       Category  Length\n",
       "0              f\"str$id\"\"str$id\"\"str$id\"         ...  sql_injection       9\n",
       "1      client.listentcp()    proxy = proxy(proxy_...           xsrf       8\n",
       "2  from django.http import httpresponse, httpresp...  open_redirect       9\n",
       "3  def write_preset(conn, queryin, descriptin):\\t...  sql_injection     175\n",
       "4                          update_query = self.up...  sql_injection      14"
      ]
     },
     "execution_count": 8,
     "metadata": {},
     "output_type": "execute_result"
    }
   ],
   "source": [
    "data.head()"
   ]
  },
  {
   "cell_type": "code",
   "execution_count": 9,
   "id": "7e5d5a0a",
   "metadata": {},
   "outputs": [],
   "source": [
    "if representation_form == \"bow\":\n",
    "    bow_size = 237 # number of columns that stand as features"
   ]
  },
  {
   "cell_type": "code",
   "execution_count": 10,
   "id": "76e46cb0",
   "metadata": {},
   "outputs": [
    {
     "data": {
      "text/plain": [
       "392"
      ]
     },
     "execution_count": 10,
     "metadata": {},
     "output_type": "execute_result"
    }
   ],
   "source": [
    "np.max(data[\"Length\"])"
   ]
  },
  {
   "cell_type": "code",
   "execution_count": 11,
   "id": "48846336",
   "metadata": {},
   "outputs": [
    {
     "name": "stdout",
     "output_type": "stream",
     "text": [
      "Maximum number of words: 392\n"
     ]
    }
   ],
   "source": [
    "if representation_form == \"sequences\":\n",
    "    word_counts = data[\"Vulnerability\"].apply(lambda x: len(x.split()))\n",
    "    max_length = word_counts.max()\n",
    "    print(\"Maximum number of words:\", max_length)\n"
   ]
  },
  {
   "cell_type": "code",
   "execution_count": 12,
   "id": "30bbacde",
   "metadata": {},
   "outputs": [
    {
     "name": "stdout",
     "output_type": "stream",
     "text": [
      "Label Frequencies:\n",
      " sql_injection            1424\n",
      "xsrf                      976\n",
      "command_injection         721\n",
      "path_disclosure           481\n",
      "open_redirect             442\n",
      "remote_code_execution     334\n",
      "xss                       145\n",
      "Name: Category, dtype: int64\n",
      "Total samples  4523\n"
     ]
    }
   ],
   "source": [
    "label_frequencies = data['Category'].value_counts()\n",
    "print(\"Label Frequencies:\\n\", label_frequencies)\n",
    "print(\"Total samples \", len(data))"
   ]
  },
  {
   "cell_type": "code",
   "execution_count": 13,
   "id": "2b777af2",
   "metadata": {},
   "outputs": [
    {
     "name": "stdout",
     "output_type": "stream",
     "text": [
      "7\n"
     ]
    }
   ],
   "source": [
    "if multi == True:\n",
    "    n_categories = len(label_frequencies) # 7\n",
    "    print(n_categories)"
   ]
  },
  {
   "cell_type": "code",
   "execution_count": 14,
   "id": "074aa34e",
   "metadata": {},
   "outputs": [],
   "source": [
    "if multi == True:\n",
    "    \n",
    "    # Convert categories to numerical indexes\n",
    "    category_numerical_indexes, unique_categories = data[\"Category\"].factorize()\n",
    "\n",
    "    # Create a dictionary mapping each category to its numerical index\n",
    "    category_to_index = {category: index for index, category in enumerate(unique_categories)}\n",
    "\n",
    "    # Update the categories in the DataFrame with their numerical indexes\n",
    "    data[\"Category_Index\"] = data[\"Category\"].map(category_to_index)\n"
   ]
  },
  {
   "cell_type": "markdown",
   "id": "0984d18f",
   "metadata": {},
   "source": [
    "Word Embedding"
   ]
  },
  {
   "cell_type": "markdown",
   "id": "2f4acbd1",
   "metadata": {},
   "source": [
    "Word2Vec - load pre-trained word2vec embeddings - NL knowledge - static embeddings"
   ]
  },
  {
   "cell_type": "code",
   "execution_count": 15,
   "id": "4f0d6de6",
   "metadata": {},
   "outputs": [
    {
     "name": "stderr",
     "output_type": "stream",
     "text": [
      "[nltk_data] Downloading package punkt to\n",
      "[nltk_data]     C:\\Users\\iliaskaloup\\AppData\\Roaming\\nltk_data...\n",
      "[nltk_data]   Package punkt is already up-to-date!\n"
     ]
    }
   ],
   "source": [
    "if representation_form == \"sequences\":\n",
    "\n",
    "    # Download the Punkt tokenizer models if not already downloaded\n",
    "    nltk.download('punkt')\n",
    "\n",
    "    tokenized_list = [word_tokenize(sentence) for sentence in data[\"Vulnerability\"].tolist()]"
   ]
  },
  {
   "cell_type": "markdown",
   "id": "09a9edbb",
   "metadata": {},
   "source": [
    "BERT - load pre-trained bert embeddings - NL knowledge - contextual embeddings"
   ]
  },
  {
   "cell_type": "code",
   "execution_count": 16,
   "id": "a6b99ea5",
   "metadata": {},
   "outputs": [],
   "source": [
    "if embedding_algorithm == \"bert\" and representation_form == \"sequences\": \n",
    "    model_variation = \"bert-base-uncased\" # \"roberta-base\"\n",
    "    tokenizer = AutoTokenizer.from_pretrained(model_variation)\n",
    "    bert = TFAutoModel.from_pretrained(model_variation)\n",
    "    "
   ]
  },
  {
   "cell_type": "code",
   "execution_count": 17,
   "id": "e9c734b8",
   "metadata": {},
   "outputs": [],
   "source": [
    "if embedding_algorithm == \"bert\" and representation_form == \"sequences\": \n",
    "    sentences = data[\"Vulnerability\"].tolist()\n",
    "\n",
    "    sequences = [tokenizer.encode(sente, truncation=True, max_length=512, padding=\"max_length\", add_special_tokens=False, return_tensors=\"tf\") for sente in sentences]\n",
    "    embeddings = [bert(sequence)[0][:, 0, :].numpy() for sequence in sequences]  # Extract embeddings from BERT's output\n",
    "    extracted_embeddings = [arr[0] for arr in embeddings]\n"
   ]
  },
  {
   "cell_type": "markdown",
   "id": "fb41a30e",
   "metadata": {},
   "source": [
    "CodeBERT - load pre-trained codebert embeddings - PL knowledge - contextual embeddings"
   ]
  },
  {
   "cell_type": "code",
   "execution_count": 18,
   "id": "8be0cc47",
   "metadata": {},
   "outputs": [
    {
     "name": "stderr",
     "output_type": "stream",
     "text": [
      "Some layers from the model checkpoint at microsoft/codebert-base-mlm were not used when initializing TFRobertaModel: ['lm_head']\n",
      "- This IS expected if you are initializing TFRobertaModel from the checkpoint of a model trained on another task or with another architecture (e.g. initializing a BertForSequenceClassification model from a BertForPreTraining model).\n",
      "- This IS NOT expected if you are initializing TFRobertaModel from the checkpoint of a model that you expect to be exactly identical (initializing a BertForSequenceClassification model from a BertForSequenceClassification model).\n",
      "All the layers of TFRobertaModel were initialized from the model checkpoint at microsoft/codebert-base-mlm.\n",
      "If your task is similar to the task the model of the checkpoint was trained on, you can already use TFRobertaModel for predictions without further training.\n"
     ]
    }
   ],
   "source": [
    "if embedding_algorithm == \"codebert\" and representation_form == \"sequences\": \n",
    "    model_variation = \"microsoft/codebert-base-mlm\"\n",
    "    tokenizer = AutoTokenizer.from_pretrained(model_variation, do_lower_case=True)\n",
    "    codebert = TFAutoModel.from_pretrained(model_variation)\n"
   ]
  },
  {
   "cell_type": "code",
   "execution_count": 19,
   "id": "02135a9f",
   "metadata": {},
   "outputs": [],
   "source": [
    "if embedding_algorithm == \"codebert\" and representation_form == \"sequences\": \n",
    "    sentences = data[\"Vulnerability\"].tolist()\n",
    "\n",
    "    sequences = [tokenizer.encode(sente, truncation=True, max_length=512, padding=\"max_length\", add_special_tokens=False, return_tensors=\"tf\") for sente in sentences]\n",
    "    embeddings = [codebert(sequence)[0][:, 0, :].numpy() for sequence in sequences]  # Extract embeddings from BERT's output\n",
    "    extracted_embeddings = [arr[0] for arr in embeddings]\n"
   ]
  },
  {
   "cell_type": "markdown",
   "id": "acab4fc2",
   "metadata": {},
   "source": [
    "Cross-Validation"
   ]
  },
  {
   "cell_type": "markdown",
   "id": "6e9e8cf6",
   "metadata": {},
   "source": [
    "Use ML models and BoW code representation"
   ]
  },
  {
   "cell_type": "code",
   "execution_count": 20,
   "id": "613fd054",
   "metadata": {},
   "outputs": [],
   "source": [
    "def runMLCrossVal_multi(X, y, seed, userModel):\n",
    "    ############## cross validation\n",
    "    scores=['accuracy', 'precision', 'recall', 'f1']\n",
    "    values = [np.array([]) for i in range(0, len(scores))]\n",
    "    score_dict = OrderedDict(zip(scores, values))\n",
    "    k=10\n",
    "    f=0\n",
    "    kfold = StratifiedKFold(n_splits=k, shuffle=True, random_state=seed)\n",
    "    \n",
    "    nb_epoch = 100\n",
    "    BS = 64\n",
    "    print(\"Training...\")\n",
    "    milli_sec1 = int(round(time.time() * 1000))\n",
    "    \n",
    "    for train_index, test_index in kfold.split(X, y):\n",
    "        f = f + 1\n",
    "        print('fold number= ',f)\n",
    "        X_train, X_test = X.iloc[train_index, :], X.iloc[test_index, :]\n",
    "        Y_train, Y_test = y.iloc[train_index], y.iloc[test_index]\n",
    "#         Y_train = np.array(Y_train)\n",
    "#         Y_train = Y_train.ravel()\n",
    "#         Y_test = np.array(Y_test)\n",
    "#         Y_test = Y_test.ravel()\n",
    "        \n",
    "#         #sampling\n",
    "#         X_res, Y_res = RandomOverSampler(random_state=seed, sampling_strategy=0.5).fit_resample(X_train, Y_train)\n",
    "#         #X_res, Y_res = RandomUnderSampler(random_state=seed, sampling_strategy=0.5).fit_resample(X_train, Y_train)\n",
    "    \n",
    "#         #shuffle dataset\n",
    "#         X_resampled=pd.DataFrame(X_res)\n",
    "#         Y_resampled=pd.DataFrame(Y_res)\n",
    "#         newTrain=X_resampled.assign(Label=Y_resampled.values)\n",
    "#         newTrain = shuffle(newTrain,random_state=seed)\n",
    "#         X_train=np.array(newTrain.iloc[:, 0:-1 ])\n",
    "#         X_train=pd.DataFrame(X_train)\n",
    "#         Y_train=np.array(newTrain.iloc[:, -1 ])\n",
    "#         Y_train=pd.DataFrame(Y_train)\n",
    "        \n",
    "        if userModel == \"SVM\":\n",
    "            myModel = SVC(kernel='rbf', gamma=100)\n",
    "        elif userModel == \"RF\":\n",
    "            myModel = RandomForestClassifier(n_estimators=100, bootstrap = True, max_features = 'sqrt')\n",
    "        elif userModel == \"DT\":\n",
    "            myModel = tree.DecisionTreeClassifier(max_depth=120)\n",
    "        elif userModel == \"NB\":\n",
    "            myModel = GaussianNB()\n",
    "        elif userModel == \"KNN\":\n",
    "            myModel = KNeighborsClassifier(n_neighbors=1)\n",
    "            \n",
    "        myModel.fit(X_train, Y_train.ravel())\n",
    "        \n",
    "        predictions = myModel.predict(X_test)\n",
    "        #predScores = myModel.predict_proba(X_test)\n",
    "        accuracy=accuracy_score(Y_test, predictions)\n",
    "        precision=precision_score(Y_test, predictions, average='macro')\n",
    "        recall=recall_score(Y_test, predictions, average='macro')\n",
    "        f1=f1_score(Y_test, predictions, average='macro')\n",
    "        conf_matrix = confusion_matrix(Y_test, predictions)\n",
    "        print(conf_matrix)\n",
    "        #tn, fp, fn, tp = confusion_matrix(Y_test, predictions).ravel()\n",
    "        #acc = ((tp+tn)/(tp+tn+fp+fn))\n",
    "        print(\"Accuracy:%.2f%%\"%(accuracy*100))\n",
    "        print(\"Precision:%.2f%%\"%(precision*100))\n",
    "        print(\"Recall:%.2f%%\"%(recall*100))\n",
    "        print(\"F1 score:%.2f%%\"%(f1*100))\n",
    "        print(classification_report(Y_test, predictions))\n",
    "        del myModel\n",
    "        score_dict['accuracy'] = np.append(score_dict['accuracy'], accuracy)\n",
    "        score_dict['precision'] = np.append(score_dict['precision'], precision)\n",
    "        score_dict['recall'] = np.append(score_dict['recall'], recall)\n",
    "        score_dict['f1'] = np.append(score_dict['f1'], f1)\n",
    "        \n",
    "    milli_sec2 = int(round(time.time() * 1000))\n",
    "    print(\"Cross Validation is completed after\", milli_sec2-milli_sec1)\n",
    "    \n",
    "    print(\"accuracy: %.2f%% (%.2f%%)\" % (score_dict['accuracy'].mean()*100, score_dict['accuracy'].std()*100))\n",
    "    print(\"precision: %.2f%% (%.2f%%)\" % (score_dict['precision'].mean()*100, score_dict['precision'].std()*100))\n",
    "    print(\"recall: %.2f%% (%.2f%%)\" % (score_dict['recall'].mean()*100, score_dict['recall'].std()*100))\n",
    "    print(\"f1: %.2f%% (%.2f%%)\" % (score_dict['f1'].mean()*100, score_dict['f1'].std()*100))\n"
   ]
  },
  {
   "cell_type": "code",
   "execution_count": 21,
   "id": "24a43ac1",
   "metadata": {},
   "outputs": [],
   "source": [
    "df_embeddings = pd.DataFrame(extracted_embeddings)"
   ]
  },
  {
   "cell_type": "code",
   "execution_count": 22,
   "id": "f8488cef",
   "metadata": {},
   "outputs": [
    {
     "name": "stdout",
     "output_type": "stream",
     "text": [
      "Training...\n",
      "fold number=  1\n",
      "[[129   4   5   0   0   4   1]\n",
      " [ 10  85   1   0   1   0   0]\n",
      " [ 13   3  26   0   0   1   2]\n",
      " [  5   1   0   8   0   0   0]\n",
      " [  5   0   1   0  27   0   1]\n",
      " [ 16   2   1   0   0  51   2]\n",
      " [ 10   5   0   0   1   0  32]]\n",
      "Accuracy:79.03%\n",
      "Precision:85.50%\n",
      "Recall:72.81%\n",
      "F1 score:77.52%\n",
      "              precision    recall  f1-score   support\n",
      "\n",
      "           0       0.69      0.90      0.78       143\n",
      "           1       0.85      0.88      0.86        97\n",
      "           2       0.76      0.58      0.66        45\n",
      "           3       1.00      0.57      0.73        14\n",
      "           4       0.93      0.79      0.86        34\n",
      "           5       0.91      0.71      0.80        72\n",
      "           6       0.84      0.67      0.74        48\n",
      "\n",
      "    accuracy                           0.79       453\n",
      "   macro avg       0.85      0.73      0.78       453\n",
      "weighted avg       0.81      0.79      0.79       453\n",
      "\n",
      "fold number=  2\n",
      "[[133   4   5   0   0   1   0]\n",
      " [  5  90   1   0   0   0   1]\n",
      " [ 12   5  27   0   1   0   0]\n",
      " [  2   1   0  11   0   0   0]\n",
      " [  3   4   2   0  24   0   0]\n",
      " [  7   1   1   0   0  63   1]\n",
      " [ 10   5   0   0   1   2  30]]\n",
      "Accuracy:83.44%\n",
      "Precision:87.95%\n",
      "Recall:77.98%\n",
      "F1 score:81.87%\n",
      "              precision    recall  f1-score   support\n",
      "\n",
      "           0       0.77      0.93      0.84       143\n",
      "           1       0.82      0.93      0.87        97\n",
      "           2       0.75      0.60      0.67        45\n",
      "           3       1.00      0.79      0.88        14\n",
      "           4       0.92      0.73      0.81        33\n",
      "           5       0.95      0.86      0.91        73\n",
      "           6       0.94      0.62      0.75        48\n",
      "\n",
      "    accuracy                           0.83       453\n",
      "   macro avg       0.88      0.78      0.82       453\n",
      "weighted avg       0.85      0.83      0.83       453\n",
      "\n",
      "fold number=  3\n",
      "[[137   3   1   0   2   0   0]\n",
      " [  9  86   1   0   1   0   0]\n",
      " [ 16   5  22   0   0   1   0]\n",
      " [  5   1   0   8   0   0   1]\n",
      " [  7   3   0   0  23   0   0]\n",
      " [ 17   0   1   0   0  54   0]\n",
      " [ 18   2   2   0   0   1  26]]\n",
      "Accuracy:78.59%\n",
      "Precision:87.75%\n",
      "Recall:69.37%\n",
      "F1 score:75.35%\n",
      "              precision    recall  f1-score   support\n",
      "\n",
      "           0       0.66      0.96      0.78       143\n",
      "           1       0.86      0.89      0.87        97\n",
      "           2       0.81      0.50      0.62        44\n",
      "           3       1.00      0.53      0.70        15\n",
      "           4       0.88      0.70      0.78        33\n",
      "           5       0.96      0.75      0.84        72\n",
      "           6       0.96      0.53      0.68        49\n",
      "\n",
      "    accuracy                           0.79       453\n",
      "   macro avg       0.88      0.69      0.75       453\n",
      "weighted avg       0.83      0.79      0.78       453\n",
      "\n",
      "fold number=  4\n",
      "[[132   5   2   0   0   2   2]\n",
      " [  6  91   0   0   0   0   0]\n",
      " [ 12   3  24   0   0   0   5]\n",
      " [  3   2   1   7   0   1   1]\n",
      " [  3   2   0   0  25   2   1]\n",
      " [ 14   4   0   0   0  54   0]\n",
      " [ 18   0   0   0   1   0  29]]\n",
      "Accuracy:80.09%\n",
      "Precision:86.88%\n",
      "Recall:71.22%\n",
      "F1 score:76.41%\n",
      "              precision    recall  f1-score   support\n",
      "\n",
      "           0       0.70      0.92      0.80       143\n",
      "           1       0.85      0.94      0.89        97\n",
      "           2       0.89      0.55      0.68        44\n",
      "           3       1.00      0.47      0.64        15\n",
      "           4       0.96      0.76      0.85        33\n",
      "           5       0.92      0.75      0.82        72\n",
      "           6       0.76      0.60      0.67        48\n",
      "\n",
      "    accuracy                           0.80       452\n",
      "   macro avg       0.87      0.71      0.76       452\n",
      "weighted avg       0.82      0.80      0.80       452\n",
      "\n",
      "fold number=  5\n",
      "[[137   2   2   0   0   0   1]\n",
      " [  9  85   3   0   1   0   0]\n",
      " [ 13   5  24   0   0   1   1]\n",
      " [  6   0   0   7   0   1   1]\n",
      " [  4   3   1   0  25   0   0]\n",
      " [ 14   1   0   1   0  55   1]\n",
      " [ 14   4   0   0   0   1  29]]\n",
      "Accuracy:80.09%\n",
      "Precision:85.84%\n",
      "Recall:71.00%\n",
      "F1 score:76.20%\n",
      "              precision    recall  f1-score   support\n",
      "\n",
      "           0       0.70      0.96      0.81       142\n",
      "           1       0.85      0.87      0.86        98\n",
      "           2       0.80      0.55      0.65        44\n",
      "           3       0.88      0.47      0.61        15\n",
      "           4       0.96      0.76      0.85        33\n",
      "           5       0.95      0.76      0.85        72\n",
      "           6       0.88      0.60      0.72        48\n",
      "\n",
      "    accuracy                           0.80       452\n",
      "   macro avg       0.86      0.71      0.76       452\n",
      "weighted avg       0.82      0.80      0.80       452\n",
      "\n",
      "fold number=  6\n",
      "[[138   3   1   0   0   0   0]\n",
      " [ 13  84   0   0   1   0   0]\n",
      " [ 10   7  26   0   0   1   0]\n",
      " [  7   1   0   6   0   0   1]\n",
      " [  2   2   0   0  26   0   3]\n",
      " [ 16   1   0   0   0  54   1]\n",
      " [ 14   4   0   0   1   2  27]]\n",
      "Accuracy:79.87%\n",
      "Precision:88.52%\n",
      "Recall:70.29%\n",
      "F1 score:75.94%\n",
      "              precision    recall  f1-score   support\n",
      "\n",
      "           0       0.69      0.97      0.81       142\n",
      "           1       0.82      0.86      0.84        98\n",
      "           2       0.96      0.59      0.73        44\n",
      "           3       1.00      0.40      0.57        15\n",
      "           4       0.93      0.79      0.85        33\n",
      "           5       0.95      0.75      0.84        72\n",
      "           6       0.84      0.56      0.68        48\n",
      "\n",
      "    accuracy                           0.80       452\n",
      "   macro avg       0.89      0.70      0.76       452\n",
      "weighted avg       0.83      0.80      0.79       452\n",
      "\n",
      "fold number=  7\n",
      "[[137   1   2   1   0   0   1]\n",
      " [ 12  82   2   0   0   2   0]\n",
      " [  9   4  30   0   0   0   1]\n",
      " [  2   3   0  10   0   0   0]\n",
      " [  4   1   0   0  26   0   2]\n",
      " [ 16   0   1   0   0  54   1]\n",
      " [  9   4   0   0   0   0  35]]\n",
      "Accuracy:82.74%\n",
      "Precision:88.48%\n",
      "Recall:77.39%\n",
      "F1 score:81.81%\n",
      "              precision    recall  f1-score   support\n",
      "\n",
      "           0       0.72      0.96      0.83       142\n",
      "           1       0.86      0.84      0.85        98\n",
      "           2       0.86      0.68      0.76        44\n",
      "           3       0.91      0.67      0.77        15\n",
      "           4       1.00      0.79      0.88        33\n",
      "           5       0.96      0.75      0.84        72\n",
      "           6       0.88      0.73      0.80        48\n",
      "\n",
      "    accuracy                           0.83       452\n",
      "   macro avg       0.88      0.77      0.82       452\n",
      "weighted avg       0.85      0.83      0.83       452\n",
      "\n",
      "fold number=  8\n",
      "[[138   3   0   0   0   0   1]\n",
      " [  8  89   0   0   0   0   1]\n",
      " [  8   7  26   0   0   0   3]\n",
      " [  7   1   0   6   0   0   0]\n",
      " [  5   2   0   0  26   0   1]\n",
      " [ 16   1   0   0   0  54   1]\n",
      " [ 11   5   1   0   0   0  31]]\n",
      "Accuracy:81.86%\n",
      "Precision:90.26%\n",
      "Recall:72.29%\n",
      "F1 score:78.07%\n",
      "              precision    recall  f1-score   support\n",
      "\n",
      "           0       0.72      0.97      0.82       142\n",
      "           1       0.82      0.91      0.86        98\n",
      "           2       0.96      0.59      0.73        44\n",
      "           3       1.00      0.43      0.60        14\n",
      "           4       1.00      0.76      0.87        34\n",
      "           5       1.00      0.75      0.86        72\n",
      "           6       0.82      0.65      0.72        48\n",
      "\n",
      "    accuracy                           0.82       452\n",
      "   macro avg       0.90      0.72      0.78       452\n",
      "weighted avg       0.85      0.82      0.81       452\n",
      "\n",
      "fold number=  9\n",
      "[[136   4   1   0   1   0   0]\n",
      " [ 10  84   3   0   0   0   1]\n",
      " [ 12   3  26   0   0   1   2]\n",
      " [  0   2   2  10   0   0   0]\n",
      " [  7   3   0   0  24   0   0]\n",
      " [ 13   2   0   0   0  55   2]\n",
      " [ 16   1   1   0   1   0  29]]\n",
      "Accuracy:80.53%\n",
      "Precision:87.08%\n",
      "Recall:74.20%\n",
      "F1 score:79.11%\n",
      "              precision    recall  f1-score   support\n",
      "\n",
      "           0       0.70      0.96      0.81       142\n",
      "           1       0.85      0.86      0.85        98\n",
      "           2       0.79      0.59      0.68        44\n",
      "           3       1.00      0.71      0.83        14\n",
      "           4       0.92      0.71      0.80        34\n",
      "           5       0.98      0.76      0.86        72\n",
      "           6       0.85      0.60      0.71        48\n",
      "\n",
      "    accuracy                           0.81       452\n",
      "   macro avg       0.87      0.74      0.79       452\n",
      "weighted avg       0.83      0.81      0.80       452\n",
      "\n",
      "fold number=  10\n",
      "[[139   2   1   0   0   0   0]\n",
      " [ 11  81   2   0   1   1   2]\n",
      " [  9   1  31   0   1   1   1]\n",
      " [  3   3   1   7   0   0   0]\n",
      " [  6   0   1   0  24   0   3]\n",
      " [ 12   3   1   0   0  55   1]\n",
      " [ 16   1   0   0   0   0  31]]\n",
      "Accuracy:81.42%\n",
      "Precision:87.73%\n",
      "Recall:73.22%\n",
      "F1 score:78.36%\n",
      "              precision    recall  f1-score   support\n",
      "\n",
      "           0       0.71      0.98      0.82       142\n",
      "           1       0.89      0.83      0.86        98\n",
      "           2       0.84      0.70      0.77        44\n",
      "           3       1.00      0.50      0.67        14\n",
      "           4       0.92      0.71      0.80        34\n",
      "           5       0.96      0.76      0.85        72\n",
      "           6       0.82      0.65      0.72        48\n",
      "\n",
      "    accuracy                           0.81       452\n",
      "   macro avg       0.88      0.73      0.78       452\n",
      "weighted avg       0.84      0.81      0.81       452\n",
      "\n",
      "Cross Validation is completed after 49815\n",
      "accuracy: 80.77% (1.49%)\n",
      "precision: 87.60% (1.31%)\n",
      "recall: 72.98% (2.72%)\n",
      "f1: 78.06% (2.19%)\n"
     ]
    }
   ],
   "source": [
    "runMLCrossVal_multi(df_embeddings, data[\"Category_Index\"], seed, \"RF\")"
   ]
  }
 ],
 "metadata": {
  "kernelspec": {
   "display_name": "Python 3 (ipykernel)",
   "language": "python",
   "name": "python3"
  },
  "language_info": {
   "codemirror_mode": {
    "name": "ipython",
    "version": 3
   },
   "file_extension": ".py",
   "mimetype": "text/x-python",
   "name": "python",
   "nbconvert_exporter": "python",
   "pygments_lexer": "ipython3",
   "version": "3.7.13"
  }
 },
 "nbformat": 4,
 "nbformat_minor": 5
}
