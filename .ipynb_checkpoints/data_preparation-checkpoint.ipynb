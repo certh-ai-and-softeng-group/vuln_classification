{
 "cells": [
  {
   "cell_type": "markdown",
   "id": "5ac6efbd",
   "metadata": {},
   "source": [
    "Import Libraries"
   ]
  },
  {
   "cell_type": "code",
   "execution_count": 1,
   "id": "79ce20d3",
   "metadata": {},
   "outputs": [],
   "source": [
    "import pandas as pd\n",
    "import json\n",
    "import csv\n",
    "import os\n"
   ]
  },
  {
   "cell_type": "markdown",
   "id": "87530360",
   "metadata": {},
   "source": [
    "Fetch data"
   ]
  },
  {
   "cell_type": "code",
   "execution_count": 2,
   "id": "07315093",
   "metadata": {},
   "outputs": [],
   "source": [
    "def readData(category):\n",
    "    filesBase = \"plain_\" \n",
    "    filename = filesBase+category\n",
    "    filepath = os.path.join(\"data\", filename)\n",
    "    \n",
    "    with open(filepath, 'r') as file:\n",
    "        file_data = json.load(file)\n",
    "    \n",
    "    return file_data"
   ]
  },
  {
   "cell_type": "code",
   "execution_count": 3,
   "id": "176303ae",
   "metadata": {},
   "outputs": [],
   "source": [
    "def getSource(file_data):\n",
    "    \n",
    "    #source = []\n",
    "    bad_parts = []\n",
    "    good_parts = []\n",
    "    full_code = []\n",
    "    for item in file_data.items():\n",
    "        for proDict in item[1].items():\n",
    "            pro = proDict[1]\n",
    "            files = pro.get(\"files\")\n",
    "            for file in files.items():\n",
    "                f = file[1]\n",
    "                \n",
    "                # get bad and good parts from diff\n",
    "                changes = f.get(\"changes\")\n",
    "                full_code.append(f.get(\"sourceWithComments\"))\n",
    "                for change in changes:\n",
    "                    bad_parts.append(change.get(\"badparts\"))\n",
    "                    good_parts.append(change.get(\"goodparts\"))               \n",
    "    \n",
    "    return bad_parts, good_parts, full_code"
   ]
  },
  {
   "cell_type": "code",
   "execution_count": 4,
   "id": "a7aa18ce",
   "metadata": {},
   "outputs": [],
   "source": [
    "def get_bad_lines(bad_parts):\n",
    "    \n",
    "    vulns = []\n",
    "    for vuln in bad_parts:\n",
    "        lines = \"\"\n",
    "        for line in vuln:\n",
    "            lines = lines + line\n",
    "        vulns.append(lines)\n",
    "    \n",
    "    return vulns"
   ]
  },
  {
   "cell_type": "code",
   "execution_count": 5,
   "id": "8063121e",
   "metadata": {},
   "outputs": [],
   "source": [
    "injection = readData(\"command_injection.json\")\n",
    "redirect = readData(\"open_redirect.json\")\n",
    "disclosure = readData(\"path_disclosure.json\")\n",
    "remote = readData(\"remote_code_execution.json\")\n",
    "sql = readData(\"sql.json\")\n",
    "xsrf = readData(\"xsrf.json\")\n",
    "xss = readData(\"xss.json\")\n",
    "\n",
    "bad_parts, good_parts, full_code = getSource(injection)\n",
    "vulns_injection = get_bad_lines(bad_parts)\n",
    "bad_parts, good_parts, full_code = getSource(redirect)\n",
    "vulns_redirect = get_bad_lines(bad_parts)\n",
    "bad_parts, good_parts, full_code = getSource(disclosure)\n",
    "vulns_disclosure = get_bad_lines(bad_parts)\n",
    "bad_parts, good_parts, full_code = getSource(remote)\n",
    "vulns_remote = get_bad_lines(bad_parts)\n",
    "bad_parts, good_parts, full_code = getSource(sql)\n",
    "vulns_sql = get_bad_lines(bad_parts)\n",
    "bad_parts, good_parts, full_code = getSource(xsrf)\n",
    "vulns_xsrf = get_bad_lines(bad_parts)\n",
    "bad_parts, good_parts, full_code = getSource(xss)\n",
    "vulns_xss = get_bad_lines(bad_parts)"
   ]
  },
  {
   "cell_type": "markdown",
   "id": "97b48ba4",
   "metadata": {},
   "source": [
    "Create dataset dataframe - csv"
   ]
  },
  {
   "cell_type": "code",
   "execution_count": 6,
   "id": "27abf808",
   "metadata": {},
   "outputs": [
    {
     "name": "stdout",
     "output_type": "stream",
     "text": [
      "                                          Vulnerability           Category\n",
      "0         @staticmethod    def test(self):          ...  command_injection\n",
      "1                                     version = \"1.0.9\"  command_injection\n",
      "2             resp_start = self._helpers.bytesToStri...  command_injection\n",
      "3                 'any': ['\"&timeout $time&\\'`sleep ...  command_injection\n",
      "4                 if (self._attack(basePair, inserti...  command_injection\n",
      "...                                                 ...                ...\n",
      "4525  from flask import Flask,requestfrom termcolor ...                xss\n",
      "4526                                              pl=[]                xss\n",
      "4527              i.md = markdown(i.content, extensi...                xss\n",
      "4528          context['md'] = markdown(self.object.c...                xss\n",
      "4529          return HttpResponseBadRequest(form.err...                xss\n",
      "\n",
      "[4530 rows x 2 columns]\n"
     ]
    }
   ],
   "source": [
    "vulns_data = []\n",
    "for source, vulns_list in [\n",
    "    (\"command_injection\", vulns_injection),\n",
    "    (\"open_redirect\", vulns_redirect),\n",
    "    (\"path_disclosure\", vulns_disclosure),\n",
    "    (\"remote_code_execution\", vulns_remote),\n",
    "    (\"sql_injection\", vulns_sql),\n",
    "    (\"xsrf\", vulns_xsrf),\n",
    "    (\"xss\", vulns_xss)\n",
    "]:\n",
    "    for vuln in vulns_list:\n",
    "        vulns_data.append((vuln, source))\n",
    "\n",
    "# Create a DataFrame from the list of tuples\n",
    "df = pd.DataFrame(vulns_data, columns=['Vulnerability', 'Category'])\n",
    "\n",
    "# Store df\n",
    "df.to_csv('vuln_categories_dataset.csv', index=False)\n",
    "\n",
    "# Display the DataFrame\n",
    "print(df)"
   ]
  }
 ],
 "metadata": {
  "kernelspec": {
   "display_name": "Python 3 (ipykernel)",
   "language": "python",
   "name": "python3"
  },
  "language_info": {
   "codemirror_mode": {
    "name": "ipython",
    "version": 3
   },
   "file_extension": ".py",
   "mimetype": "text/x-python",
   "name": "python",
   "nbconvert_exporter": "python",
   "pygments_lexer": "ipython3",
   "version": "3.7.13"
  }
 },
 "nbformat": 4,
 "nbformat_minor": 5
}
